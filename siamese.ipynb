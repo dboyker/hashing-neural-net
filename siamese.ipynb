{
 "cells": [
  {
   "cell_type": "code",
   "execution_count": null,
   "metadata": {},
   "outputs": [],
   "source": [
    "import numpy as np\n",
    "import tensorflow as tf\n",
    "from tensorflow.keras.layers import Input, Dense, Lambda\n",
    "from tensorflow.keras import Model\n",
    "import tensorflow.keras.backend as K\n",
    "import tensorflow_addons as tfa"
   ]
  },
  {
   "cell_type": "markdown",
   "metadata": {},
   "source": [
    "Create dummy data"
   ]
  },
  {
   "cell_type": "code",
   "execution_count": null,
   "metadata": {},
   "outputs": [],
   "source": [
    "x_0 = np.random.uniform(0, 1, size=(100, 1024))\n",
    "x_1 = x = np.random.uniform(0, 1, size=(100, 1024))\n",
    "y = np.random.randint(2, size=(100))"
   ]
  },
  {
   "cell_type": "markdown",
   "metadata": {},
   "source": [
    "Create Siamese model"
   ]
  },
  {
   "cell_type": "code",
   "execution_count": null,
   "metadata": {},
   "outputs": [],
   "source": [
    "# Branch\n",
    "K.clear_session()\n",
    "i = Input(shape=(1024,))\n",
    "embd = Dense(128, activation='relu')(i)\n",
    "branch = Model(i, embd, name='branch')\n",
    "\n",
    "# Siamese network\n",
    "i_0 = Input(shape=(1024,))\n",
    "i_1 = Input(shape=(1024,))\n",
    "embd_0 = branch(i_0)\n",
    "embd_1 = branch(i_1)\n",
    "dist = Lambda(lambda a: tf.norm(a[0]-a[1], ord='euclidean', axis=1))([embd_0, embd_1])\n",
    "siamese = Model([i_0, i_1], dist, name='siamese')\n",
    "\n",
    "# Summary\n",
    "print(branch.summary())\n",
    "print(siamese.summary())"
   ]
  },
  {
   "cell_type": "code",
   "execution_count": null,
   "metadata": {},
   "outputs": [],
   "source": [
    "def loss(y_true, y_pred):\n",
    "    #y_true = tf.squeeze(y_true)\n",
    "    loss = tfa.losses.ContrastiveLoss()(y_true, y_pred)\n",
    "    return loss\n",
    "\n",
    "siamese.compile(\n",
    "    optimizer='sgd',\n",
    "    loss=loss,\n",
    "    run_eagerly=False\n",
    ")"
   ]
  },
  {
   "cell_type": "markdown",
   "metadata": {},
   "source": [
    "Train model"
   ]
  },
  {
   "cell_type": "code",
   "execution_count": null,
   "metadata": {},
   "outputs": [],
   "source": [
    "siamese.fit(x=(x_0, x_1), y=y, batch_size=10, epochs=10)"
   ]
  },
  {
   "cell_type": "code",
   "execution_count": null,
   "metadata": {},
   "outputs": [],
   "source": [
    "a = tf.constant(np.array([1, 2, 3], dtype=int))\n",
    "b = tf.constant(np.array([0.1, 0.2, 0.3], dtype=float))\n",
    "tfa.losses.ContrastiveLoss()(a, b)"
   ]
  },
  {
   "cell_type": "code",
   "execution_count": null,
   "metadata": {},
   "outputs": [],
   "source": [
    "y_pred = siamese.predict((x_0, x_1))"
   ]
  },
  {
   "cell_type": "code",
   "execution_count": null,
   "metadata": {},
   "outputs": [],
   "source": [
    "# Average embeddings distances when 1) y = 0, 2) y = 1\n",
    "a = y_pred[np.where(y==0)[0]]\n",
    "print(np.min(a), np.mean(a), np.max(a))\n",
    "b = y_pred[np.where(y==1)[0]]\n",
    "print(np.min(b), np.mean(b), np.max(b))"
   ]
  }
 ],
 "metadata": {
  "kernelspec": {
   "display_name": "hashing-neural-net",
   "language": "python",
   "name": "hashing-neural-net"
  },
  "language_info": {
   "codemirror_mode": {
    "name": "ipython",
    "version": 3
   },
   "file_extension": ".py",
   "mimetype": "text/x-python",
   "name": "python",
   "nbconvert_exporter": "python",
   "pygments_lexer": "ipython3",
   "version": "3.7.7"
  }
 },
 "nbformat": 4,
 "nbformat_minor": 4
}
